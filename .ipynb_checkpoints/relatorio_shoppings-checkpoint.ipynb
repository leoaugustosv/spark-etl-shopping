{
 "cells": [
  {
   "cell_type": "code",
   "execution_count": 162,
   "id": "7b1a2658-46ea-4cad-8eb6-58ba5f511939",
   "metadata": {
    "tags": []
   },
   "outputs": [],
   "source": [
    "#Inicializando o Spark\n",
    "\n",
    "import os\n",
    "import sys\n",
    "\n",
    "os.environ['PYSPARK_PYTHON'] = sys.executable\n",
    "os.environ['PYSPARK_DRIVER_PYTHON'] = sys.executable\n",
    "\n",
    "from pyspark.sql import SparkSession\n",
    "\n",
    "import pyspark.sql.functions as func\n",
    "\n",
    "spark = SparkSession.builder.appName(\"relatorio_shoppings\").getOrCreate()"
   ]
  },
  {
   "cell_type": "code",
   "execution_count": 206,
   "id": "3c600bbb-836b-45d9-ae64-b60daff22d72",
   "metadata": {
    "tags": []
   },
   "outputs": [
    {
     "name": "stdout",
     "output_type": "stream",
     "text": [
      "+------------+-------------------+--------------------+--------------------+----------+--------------------+--------------------+\n",
      "|Código Venda|               Data|             ID Loja|             Produto|Quantidade|      Valor Unitário|         Valor Final|\n",
      "+------------+-------------------+--------------------+--------------------+----------+--------------------+--------------------+\n",
      "|           1|2019-01-01 00:00:00|  Iguatemi Esplanada|      Sapato Estampa|         1|358.0000000000000...|358.0000000000000...|\n",
      "|           1|2019-01-01 00:00:00|  Iguatemi Esplanada|            Camiseta|         2|180.0000000000000...|360.0000000000000...|\n",
      "|           1|2019-01-01 00:00:00|  Iguatemi Esplanada|       Sapato Xadrez|         1|368.0000000000000...|368.0000000000000...|\n",
      "|           2|2019-01-02 00:00:00|      Norte Shopping|             Relógio|         3|200.0000000000000...|600.0000000000000...|\n",
      "|           2|2019-01-02 00:00:00|      Norte Shopping|        Chinelo Liso|         1|71.00000000000000...|71.00000000000000...|\n",
      "|           3|2019-01-02 00:00:00|Rio Mar Shopping ...|         Cinto Linho|         1|248.0000000000000...|248.0000000000000...|\n",
      "|           5|2019-01-02 00:00:00|      Shopping Barra|               Calça|         1|170.0000000000000...|170.0000000000000...|\n",
      "|           6|2019-01-02 00:00:00| Shopping Ibirapuera|       Polo Listrado|         4|149.0000000000000...|596.0000000000000...|\n",
      "|           7|2019-01-02 00:00:00|      Norte Shopping|Camisa Gola V Lis...|         1|116.0000000000000...|116.0000000000000...|\n",
      "|           7|2019-01-02 00:00:00|      Norte Shopping|         Camisa Liso|         1|105.0000000000000...|105.0000000000000...|\n",
      "|           8|2019-01-02 00:00:00|   Iguatemi Campinas|       Terno Estampa|         5|706.0000000000000...|3530.000000000000...|\n",
      "|           9|2019-01-02 00:00:00|Shopping Center L...|         Tênis Linho|         1|294.0000000000000...|294.0000000000000...|\n",
      "|           9|2019-01-02 00:00:00|Shopping Center L...|       Casaco Xadrez|         2|259.0000000000000...|518.0000000000000...|\n",
      "|          10|2019-01-02 00:00:00|Passei das Águas ...|     Camiseta Xadrez|         2|200.0000000000000...|400.0000000000000...|\n",
      "|          10|2019-01-02 00:00:00|Passei das Águas ...|          Cueca Liso|         1|69.00000000000000...|69.00000000000000...|\n",
      "|          11|2019-01-02 00:00:00|     Shopping Recife|            Camiseta|         1|180.0000000000000...|180.0000000000000...|\n",
      "|          11|2019-01-02 00:00:00|     Shopping Recife|      Calça Listrado|         2|181.0000000000000...|362.0000000000000...|\n",
      "|          11|2019-01-02 00:00:00|     Shopping Recife|      Camisa Estampa|         1|113.0000000000000...|113.0000000000000...|\n",
      "|          12|2019-01-02 00:00:00|Shopping Midway Mall|        Short Xadrez|         4|100.0000000000000...|400.0000000000000...|\n",
      "|          12|2019-01-02 00:00:00|Shopping Midway Mall|          Sunga Liso|         2|114.0000000000000...|228.0000000000000...|\n",
      "+------------+-------------------+--------------------+--------------------+----------+--------------------+--------------------+\n",
      "only showing top 20 rows\n",
      "\n"
     ]
    }
   ],
   "source": [
    "#Importando arquivo excel e definindo schema\n",
    "\n",
    "from decimal import Decimal\n",
    "import pandas as pd\n",
    "\n",
    "cols_ranking_lojas = [{\"Loja\",\"Quantidade de Produtos Vendidos\",\"Ticket Médio\"}]\n",
    "pd_file = pd.read_excel(\"data\\\\raw\\\\vendas.xlsx\",sheet_name=\"Plan1\",converters={\n",
    "    \"Código Venda\":int,\n",
    "    \"Data\":str,\t\n",
    "    \"ID Loja\":str,\t\n",
    "    \"Produto\":str,\t\n",
    "    \"Quantidade\":int,\t\n",
    "    \"Valor Unitário\":Decimal, \n",
    "    \"Valor Final\":Decimal\n",
    "})\n",
    "\n",
    "#Criando dataframe spark a partir de um dataframe pandas\n",
    "\n",
    "df_ranking = spark.createDataFrame(pd_file)\n",
    "df_ranking.show()"
   ]
  },
  {
   "cell_type": "code",
   "execution_count": 175,
   "id": "1fbf4c1d-ffd2-42f3-91cd-587f9f6e47d5",
   "metadata": {
    "tags": []
   },
   "outputs": [
    {
     "name": "stdout",
     "output_type": "stream",
     "text": [
      "+--------------------+-----------+\n",
      "|             ID Loja|Faturamento|\n",
      "+--------------------+-----------+\n",
      "|   Iguatemi Campinas| 1762419.00|\n",
      "| Shopping Vila Velha| 1731167.00|\n",
      "| Bourbon Shopping SP| 1726110.00|\n",
      "|      Rio Mar Recife| 1722766.00|\n",
      "|  Shopping SP Market| 1721763.00|\n",
      "|Palladium Shoppin...| 1721120.00|\n",
      "|      Norte Shopping| 1711968.00|\n",
      "|   Ribeirão Shopping| 1707122.00|\n",
      "|  Iguatemi Esplanada| 1699681.00|\n",
      "|Rio Mar Shopping ...| 1698430.00|\n",
      "|Shopping Center L...| 1682870.00|\n",
      "|Novo Shopping Rib...| 1678225.00|\n",
      "|Shopping Iguatemi...| 1674824.00|\n",
      "|Center Shopping U...| 1668921.00|\n",
      "|Shopping União de...| 1663770.00|\n",
      "|      Shopping Barra| 1653103.00|\n",
      "|Passei das Águas ...| 1649014.00|\n",
      "|   Shopping Eldorado| 1648111.00|\n",
      "|   Salvador Shopping| 1646739.00|\n",
      "|Shopping Center I...| 1640486.00|\n",
      "+--------------------+-----------+\n",
      "only showing top 20 rows\n",
      "\n"
     ]
    }
   ],
   "source": [
    "# GroupBy e Sum para somar valor de faturamento de cada loja\n",
    "\n",
    "df_faturamento = df_ranking[\"ID Loja\",\"Valor Final\"].groupby(\"ID Loja\").sum()\\\n",
    ".withColumnRenamed(\"sum(Valor Final)\", \"Faturamento\")\n",
    "\n",
    "# Ordenando e renomeando coluna de faturamento\n",
    "\n",
    "df_faturamento = df_faturamento.sort(\"Faturamento\",ascending=False)\n",
    "df_faturamento = df_faturamento.withColumn(\"Faturamento\",func.round(df_faturamento[\"Faturamento\"],2))\n",
    "df_faturamento.show()\n"
   ]
  },
  {
   "cell_type": "code",
   "execution_count": 181,
   "id": "fda31e5c-f7ff-48f9-bbab-ccf006a977f6",
   "metadata": {
    "tags": []
   },
   "outputs": [
    {
     "name": "stdout",
     "output_type": "stream",
     "text": [
      "+--------------------+-----------------+\n",
      "|             ID Loja|Produtos Vendidos|\n",
      "+--------------------+-----------------+\n",
      "| Shopping Vila Velha|             9224|\n",
      "|Palladium Shoppin...|             9091|\n",
      "|      Norte Shopping|             9014|\n",
      "|Shopping Center L...|             8938|\n",
      "|Rio Mar Shopping ...|             8937|\n",
      "|   Iguatemi Campinas|             8935|\n",
      "|  Shopping SP Market|             8927|\n",
      "| Bourbon Shopping SP|             8863|\n",
      "|      Rio Mar Recife|             8863|\n",
      "|   Ribeirão Shopping|             8825|\n",
      "|Novo Shopping Rib...|             8751|\n",
      "|Shopping União de...|             8730|\n",
      "| Shopping Ibirapuera|             8723|\n",
      "|   Shopping Eldorado|             8719|\n",
      "|   Salvador Shopping|             8698|\n",
      "|Shopping Center I...|             8675|\n",
      "|      Shopping Barra|             8638|\n",
      "|Shopping Iguatemi...|             8629|\n",
      "|Center Shopping U...|             8627|\n",
      "|Passei das Águas ...|             8618|\n",
      "+--------------------+-----------------+\n",
      "only showing top 20 rows\n",
      "\n"
     ]
    }
   ],
   "source": [
    "# GroupBy e Sum para somar valor de produtos vendidos por cada loja\n",
    "\n",
    "df_produtos_vendidos = df_ranking[\"ID Loja\",\"Quantidade\"].groupby(\"ID Loja\").sum()\\\n",
    ".withColumnRenamed(\"sum(Quantidade)\", \"Produtos Vendidos\")\n",
    "\n",
    "# Ordenando da loja que mais vendeu para a que menos vendeu\n",
    "\n",
    "df_produtos_vendidos = df_produtos_vendidos.sort(\"Produtos Vendidos\",ascending=False)\n",
    "df_produtos_vendidos.show()"
   ]
  },
  {
   "cell_type": "code",
   "execution_count": 203,
   "id": "277e5cba-0f30-4334-9c5a-4e6c574b937b",
   "metadata": {
    "tags": []
   },
   "outputs": [
    {
     "ename": "AnalysisException",
     "evalue": "[MISSING_ATTRIBUTES.RESOLVED_ATTRIBUTE_MISSING_FROM_INPUT] Resolved attribute(s) \"Faturamento\", \"Produtos Vendidos\" missing from \"Código Venda\", \"Data\", \"ID Loja\", \"Produto\", \"Quantidade\", \"Valor Unitário\", \"Valor Final\" in operator !Project [Código Venda#660L, Data#661, ID Loja#662, Produto#663, Quantidade#664L, Valor Unitário#665, Valor Final#666, (Faturamento#714 / cast(Produtos Vendidos#771L as decimal(20,0))) AS Ticket#786]. ;\n!Project [Código Venda#660L, Data#661, ID Loja#662, Produto#663, Quantidade#664L, Valor Unitário#665, Valor Final#666, (Faturamento#714 / cast(Produtos Vendidos#771L as decimal(20,0))) AS Ticket#786]\n+- LogicalRDD [Código Venda#660L, Data#661, ID Loja#662, Produto#663, Quantidade#664L, Valor Unitário#665, Valor Final#666], false\n",
     "output_type": "error",
     "traceback": [
      "\u001b[1;31m---------------------------------------------------------------------------\u001b[0m",
      "\u001b[1;31mAnalysisException\u001b[0m                         Traceback (most recent call last)",
      "Cell \u001b[1;32mIn[203], line 1\u001b[0m\n\u001b[1;32m----> 1\u001b[0m df_ticket \u001b[38;5;241m=\u001b[39m df_ranking\u001b[38;5;241m.\u001b[39mwithColumn(\u001b[38;5;124m\"\u001b[39m\u001b[38;5;124mTicket\u001b[39m\u001b[38;5;124m\"\u001b[39m,df_faturamento[\u001b[38;5;124m\"\u001b[39m\u001b[38;5;124mFaturamento\u001b[39m\u001b[38;5;124m\"\u001b[39m] \u001b[38;5;241m/\u001b[39m df_produtos_vendidos[\u001b[38;5;124m\"\u001b[39m\u001b[38;5;124mProdutos Vendidos\u001b[39m\u001b[38;5;124m\"\u001b[39m])\n\u001b[0;32m      2\u001b[0m df_ticket\u001b[38;5;241m.\u001b[39mshow()\n",
      "File \u001b[1;32m~\\anaconda3\\Lib\\site-packages\\pyspark\\sql\\dataframe.py:5174\u001b[0m, in \u001b[0;36mDataFrame.withColumn\u001b[1;34m(self, colName, col)\u001b[0m\n\u001b[0;32m   5169\u001b[0m \u001b[38;5;28;01mif\u001b[39;00m \u001b[38;5;129;01mnot\u001b[39;00m \u001b[38;5;28misinstance\u001b[39m(col, Column):\n\u001b[0;32m   5170\u001b[0m     \u001b[38;5;28;01mraise\u001b[39;00m PySparkTypeError(\n\u001b[0;32m   5171\u001b[0m         error_class\u001b[38;5;241m=\u001b[39m\u001b[38;5;124m\"\u001b[39m\u001b[38;5;124mNOT_COLUMN\u001b[39m\u001b[38;5;124m\"\u001b[39m,\n\u001b[0;32m   5172\u001b[0m         message_parameters\u001b[38;5;241m=\u001b[39m{\u001b[38;5;124m\"\u001b[39m\u001b[38;5;124marg_name\u001b[39m\u001b[38;5;124m\"\u001b[39m: \u001b[38;5;124m\"\u001b[39m\u001b[38;5;124mcol\u001b[39m\u001b[38;5;124m\"\u001b[39m, \u001b[38;5;124m\"\u001b[39m\u001b[38;5;124marg_type\u001b[39m\u001b[38;5;124m\"\u001b[39m: \u001b[38;5;28mtype\u001b[39m(col)\u001b[38;5;241m.\u001b[39m\u001b[38;5;18m__name__\u001b[39m},\n\u001b[0;32m   5173\u001b[0m     )\n\u001b[1;32m-> 5174\u001b[0m \u001b[38;5;28;01mreturn\u001b[39;00m DataFrame(\u001b[38;5;28mself\u001b[39m\u001b[38;5;241m.\u001b[39m_jdf\u001b[38;5;241m.\u001b[39mwithColumn(colName, col\u001b[38;5;241m.\u001b[39m_jc), \u001b[38;5;28mself\u001b[39m\u001b[38;5;241m.\u001b[39msparkSession)\n",
      "File \u001b[1;32m~\\anaconda3\\Lib\\site-packages\\py4j\\java_gateway.py:1322\u001b[0m, in \u001b[0;36mJavaMember.__call__\u001b[1;34m(self, *args)\u001b[0m\n\u001b[0;32m   1316\u001b[0m command \u001b[38;5;241m=\u001b[39m proto\u001b[38;5;241m.\u001b[39mCALL_COMMAND_NAME \u001b[38;5;241m+\u001b[39m\\\n\u001b[0;32m   1317\u001b[0m     \u001b[38;5;28mself\u001b[39m\u001b[38;5;241m.\u001b[39mcommand_header \u001b[38;5;241m+\u001b[39m\\\n\u001b[0;32m   1318\u001b[0m     args_command \u001b[38;5;241m+\u001b[39m\\\n\u001b[0;32m   1319\u001b[0m     proto\u001b[38;5;241m.\u001b[39mEND_COMMAND_PART\n\u001b[0;32m   1321\u001b[0m answer \u001b[38;5;241m=\u001b[39m \u001b[38;5;28mself\u001b[39m\u001b[38;5;241m.\u001b[39mgateway_client\u001b[38;5;241m.\u001b[39msend_command(command)\n\u001b[1;32m-> 1322\u001b[0m return_value \u001b[38;5;241m=\u001b[39m get_return_value(\n\u001b[0;32m   1323\u001b[0m     answer, \u001b[38;5;28mself\u001b[39m\u001b[38;5;241m.\u001b[39mgateway_client, \u001b[38;5;28mself\u001b[39m\u001b[38;5;241m.\u001b[39mtarget_id, \u001b[38;5;28mself\u001b[39m\u001b[38;5;241m.\u001b[39mname)\n\u001b[0;32m   1325\u001b[0m \u001b[38;5;28;01mfor\u001b[39;00m temp_arg \u001b[38;5;129;01min\u001b[39;00m temp_args:\n\u001b[0;32m   1326\u001b[0m     \u001b[38;5;28;01mif\u001b[39;00m \u001b[38;5;28mhasattr\u001b[39m(temp_arg, \u001b[38;5;124m\"\u001b[39m\u001b[38;5;124m_detach\u001b[39m\u001b[38;5;124m\"\u001b[39m):\n",
      "File \u001b[1;32m~\\anaconda3\\Lib\\site-packages\\pyspark\\errors\\exceptions\\captured.py:185\u001b[0m, in \u001b[0;36mcapture_sql_exception.<locals>.deco\u001b[1;34m(*a, **kw)\u001b[0m\n\u001b[0;32m    181\u001b[0m converted \u001b[38;5;241m=\u001b[39m convert_exception(e\u001b[38;5;241m.\u001b[39mjava_exception)\n\u001b[0;32m    182\u001b[0m \u001b[38;5;28;01mif\u001b[39;00m \u001b[38;5;129;01mnot\u001b[39;00m \u001b[38;5;28misinstance\u001b[39m(converted, UnknownException):\n\u001b[0;32m    183\u001b[0m     \u001b[38;5;66;03m# Hide where the exception came from that shows a non-Pythonic\u001b[39;00m\n\u001b[0;32m    184\u001b[0m     \u001b[38;5;66;03m# JVM exception message.\u001b[39;00m\n\u001b[1;32m--> 185\u001b[0m     \u001b[38;5;28;01mraise\u001b[39;00m converted \u001b[38;5;28;01mfrom\u001b[39;00m \u001b[38;5;28;01mNone\u001b[39;00m\n\u001b[0;32m    186\u001b[0m \u001b[38;5;28;01melse\u001b[39;00m:\n\u001b[0;32m    187\u001b[0m     \u001b[38;5;28;01mraise\u001b[39;00m\n",
      "\u001b[1;31mAnalysisException\u001b[0m: [MISSING_ATTRIBUTES.RESOLVED_ATTRIBUTE_MISSING_FROM_INPUT] Resolved attribute(s) \"Faturamento\", \"Produtos Vendidos\" missing from \"Código Venda\", \"Data\", \"ID Loja\", \"Produto\", \"Quantidade\", \"Valor Unitário\", \"Valor Final\" in operator !Project [Código Venda#660L, Data#661, ID Loja#662, Produto#663, Quantidade#664L, Valor Unitário#665, Valor Final#666, (Faturamento#714 / cast(Produtos Vendidos#771L as decimal(20,0))) AS Ticket#786]. ;\n!Project [Código Venda#660L, Data#661, ID Loja#662, Produto#663, Quantidade#664L, Valor Unitário#665, Valor Final#666, (Faturamento#714 / cast(Produtos Vendidos#771L as decimal(20,0))) AS Ticket#786]\n+- LogicalRDD [Código Venda#660L, Data#661, ID Loja#662, Produto#663, Quantidade#664L, Valor Unitário#665, Valor Final#666], false\n"
     ]
    }
   ],
   "source": [
    "\n",
    "#df_ticket = df_ranking.withColumn(\"Ticket\",df_faturamento[\"Faturamento\"] / df_produtos_vendidos[\"Produtos Vendidos\"])\n",
    "#df_ticket.show()\n",
    "\n",
    "df_ranking.createOrReplaceTempView('df_table')\n",
    "\n",
    "\n",
    "df_ticket = spark.sql(\n",
    "    \n",
    "    'select , col2 - col1 as col3 from df_table'\n",
    "    \n",
    "\n",
    ")"
   ]
  },
  {
   "cell_type": "code",
   "execution_count": null,
   "id": "3fa8930d-f02c-4bc3-8c9d-399bd05301d1",
   "metadata": {},
   "outputs": [],
   "source": []
  },
  {
   "cell_type": "code",
   "execution_count": null,
   "id": "590b272d-c12b-45f5-a606-8bd6cea7d725",
   "metadata": {},
   "outputs": [],
   "source": []
  },
  {
   "cell_type": "code",
   "execution_count": null,
   "id": "f63802f4-6108-4af6-9285-6571b8be1303",
   "metadata": {},
   "outputs": [],
   "source": []
  },
  {
   "cell_type": "code",
   "execution_count": null,
   "id": "107f00e8-4fa3-463c-9d69-be24c5688a39",
   "metadata": {},
   "outputs": [],
   "source": []
  },
  {
   "cell_type": "code",
   "execution_count": null,
   "id": "0434c637-fa67-4a8e-af3b-288d25334c9d",
   "metadata": {},
   "outputs": [],
   "source": []
  },
  {
   "cell_type": "code",
   "execution_count": null,
   "id": "3da60ab1-1235-4844-9b2c-8ad58ba6e19a",
   "metadata": {},
   "outputs": [],
   "source": []
  }
 ],
 "metadata": {
  "kernelspec": {
   "display_name": "Python 3 (ipykernel)",
   "language": "python",
   "name": "python3"
  },
  "language_info": {
   "codemirror_mode": {
    "name": "ipython",
    "version": 3
   },
   "file_extension": ".py",
   "mimetype": "text/x-python",
   "name": "python",
   "nbconvert_exporter": "python",
   "pygments_lexer": "ipython3",
   "version": "3.11.7"
  }
 },
 "nbformat": 4,
 "nbformat_minor": 5
}
