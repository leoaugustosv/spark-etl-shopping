{
 "cells": [
  {
   "cell_type": "code",
   "execution_count": 32,
   "id": "7b1a2658-46ea-4cad-8eb6-58ba5f511939",
   "metadata": {
    "tags": []
   },
   "outputs": [],
   "source": [
    "#Inicializando o Spark\n",
    "\n",
    "import os\n",
    "import sys\n",
    "\n",
    "os.environ['PYSPARK_PYTHON'] = sys.executable\n",
    "os.environ['PYSPARK_DRIVER_PYTHON'] = sys.executable\n",
    "\n",
    "from pyspark.sql import SparkSession\n",
    "\n",
    "import pyspark.sql.functions as func\n",
    "\n",
    "spark = SparkSession.builder.appName(\"relatorio_shoppings\").getOrCreate()"
   ]
  },
  {
   "cell_type": "code",
   "execution_count": 33,
   "id": "3c600bbb-836b-45d9-ae64-b60daff22d72",
   "metadata": {
    "tags": []
   },
   "outputs": [
    {
     "name": "stdout",
     "output_type": "stream",
     "text": [
      "+------------+-------------------+--------------------+--------------------+----------+--------------------+--------------------+\n",
      "|Código Venda|               Data|             ID Loja|             Produto|Quantidade|      Valor Unitário|         Valor Final|\n",
      "+------------+-------------------+--------------------+--------------------+----------+--------------------+--------------------+\n",
      "|           1|2019-01-01 00:00:00|  Iguatemi Esplanada|      Sapato Estampa|         1|358.0000000000000...|358.0000000000000...|\n",
      "|           1|2019-01-01 00:00:00|  Iguatemi Esplanada|            Camiseta|         2|180.0000000000000...|360.0000000000000...|\n",
      "|           1|2019-01-01 00:00:00|  Iguatemi Esplanada|       Sapato Xadrez|         1|368.0000000000000...|368.0000000000000...|\n",
      "|           2|2019-01-02 00:00:00|      Norte Shopping|             Relógio|         3|200.0000000000000...|600.0000000000000...|\n",
      "|           2|2019-01-02 00:00:00|      Norte Shopping|        Chinelo Liso|         1|71.00000000000000...|71.00000000000000...|\n",
      "|           3|2019-01-02 00:00:00|Rio Mar Shopping ...|         Cinto Linho|         1|248.0000000000000...|248.0000000000000...|\n",
      "|           5|2019-01-02 00:00:00|      Shopping Barra|               Calça|         1|170.0000000000000...|170.0000000000000...|\n",
      "|           6|2019-01-02 00:00:00| Shopping Ibirapuera|       Polo Listrado|         4|149.0000000000000...|596.0000000000000...|\n",
      "|           7|2019-01-02 00:00:00|      Norte Shopping|Camisa Gola V Lis...|         1|116.0000000000000...|116.0000000000000...|\n",
      "|           7|2019-01-02 00:00:00|      Norte Shopping|         Camisa Liso|         1|105.0000000000000...|105.0000000000000...|\n",
      "|           8|2019-01-02 00:00:00|   Iguatemi Campinas|       Terno Estampa|         5|706.0000000000000...|3530.000000000000...|\n",
      "|           9|2019-01-02 00:00:00|Shopping Center L...|         Tênis Linho|         1|294.0000000000000...|294.0000000000000...|\n",
      "|           9|2019-01-02 00:00:00|Shopping Center L...|       Casaco Xadrez|         2|259.0000000000000...|518.0000000000000...|\n",
      "|          10|2019-01-02 00:00:00|Passei das Águas ...|     Camiseta Xadrez|         2|200.0000000000000...|400.0000000000000...|\n",
      "|          10|2019-01-02 00:00:00|Passei das Águas ...|          Cueca Liso|         1|69.00000000000000...|69.00000000000000...|\n",
      "|          11|2019-01-02 00:00:00|     Shopping Recife|            Camiseta|         1|180.0000000000000...|180.0000000000000...|\n",
      "|          11|2019-01-02 00:00:00|     Shopping Recife|      Calça Listrado|         2|181.0000000000000...|362.0000000000000...|\n",
      "|          11|2019-01-02 00:00:00|     Shopping Recife|      Camisa Estampa|         1|113.0000000000000...|113.0000000000000...|\n",
      "|          12|2019-01-02 00:00:00|Shopping Midway Mall|        Short Xadrez|         4|100.0000000000000...|400.0000000000000...|\n",
      "|          12|2019-01-02 00:00:00|Shopping Midway Mall|          Sunga Liso|         2|114.0000000000000...|228.0000000000000...|\n",
      "+------------+-------------------+--------------------+--------------------+----------+--------------------+--------------------+\n",
      "only showing top 20 rows\n",
      "\n"
     ]
    }
   ],
   "source": [
    "#Importando arquivo excel e definindo schema\n",
    "\n",
    "from decimal import Decimal\n",
    "import pandas as pd\n",
    "\n",
    "cols_ranking_lojas = [{\"Loja\",\"Quantidade de Produtos Vendidos\",\"Ticket Médio\"}]\n",
    "pd_file = pd.read_excel(\"data\\\\raw\\\\vendas.xlsx\",sheet_name=\"Plan1\",converters={\n",
    "    \"Código Venda\":int,\n",
    "    \"Data\":str,\t\n",
    "    \"ID Loja\":str,\t\n",
    "    \"Produto\":str,\t\n",
    "    \"Quantidade\":int,\t\n",
    "    \"Valor Unitário\":Decimal, \n",
    "    \"Valor Final\":Decimal\n",
    "})\n",
    "\n",
    "#Criando dataframe spark a partir de um dataframe pandas\n",
    "\n",
    "df_ranking = spark.createDataFrame(pd_file)\n",
    "df_ranking.show()"
   ]
  },
  {
   "cell_type": "code",
   "execution_count": 34,
   "id": "1fbf4c1d-ffd2-42f3-91cd-587f9f6e47d5",
   "metadata": {
    "tags": []
   },
   "outputs": [
    {
     "name": "stdout",
     "output_type": "stream",
     "text": [
      "+--------------------+-----------+\n",
      "|             ID Loja|Faturamento|\n",
      "+--------------------+-----------+\n",
      "|   Iguatemi Campinas| 1762419.00|\n",
      "| Shopping Vila Velha| 1731167.00|\n",
      "| Bourbon Shopping SP| 1726110.00|\n",
      "|      Rio Mar Recife| 1722766.00|\n",
      "|  Shopping SP Market| 1721763.00|\n",
      "|Palladium Shoppin...| 1721120.00|\n",
      "|      Norte Shopping| 1711968.00|\n",
      "|   Ribeirão Shopping| 1707122.00|\n",
      "|  Iguatemi Esplanada| 1699681.00|\n",
      "|Rio Mar Shopping ...| 1698430.00|\n",
      "|Shopping Center L...| 1682870.00|\n",
      "|Novo Shopping Rib...| 1678225.00|\n",
      "|Shopping Iguatemi...| 1674824.00|\n",
      "|Center Shopping U...| 1668921.00|\n",
      "|Shopping União de...| 1663770.00|\n",
      "|      Shopping Barra| 1653103.00|\n",
      "|Passei das Águas ...| 1649014.00|\n",
      "|   Shopping Eldorado| 1648111.00|\n",
      "|   Salvador Shopping| 1646739.00|\n",
      "|Shopping Center I...| 1640486.00|\n",
      "+--------------------+-----------+\n",
      "only showing top 20 rows\n",
      "\n"
     ]
    }
   ],
   "source": [
    "# GroupBy e Sum para somar valor de faturamento de cada loja\n",
    "\n",
    "df_faturamento = df_ranking[\"ID Loja\",\"Valor Final\"].groupby(\"ID Loja\").sum()\\\n",
    ".withColumnRenamed(\"sum(Valor Final)\", \"Faturamento\")\n",
    "\n",
    "# Ordenando e renomeando coluna de faturamento\n",
    "\n",
    "df_faturamento = df_faturamento.sort(\"Faturamento\",ascending=False)\n",
    "df_faturamento = df_faturamento.withColumn(\"Faturamento\",func.round(df_faturamento[\"Faturamento\"],2))\n",
    "df_faturamento.show()\n"
   ]
  },
  {
   "cell_type": "code",
   "execution_count": 35,
   "id": "fda31e5c-f7ff-48f9-bbab-ccf006a977f6",
   "metadata": {
    "scrolled": true,
    "tags": []
   },
   "outputs": [
    {
     "name": "stdout",
     "output_type": "stream",
     "text": [
      "+--------------------+-----------------+\n",
      "|             ID Loja|Produtos Vendidos|\n",
      "+--------------------+-----------------+\n",
      "| Shopping Vila Velha|             9224|\n",
      "|Palladium Shoppin...|             9091|\n",
      "|      Norte Shopping|             9014|\n",
      "|Shopping Center L...|             8938|\n",
      "|Rio Mar Shopping ...|             8937|\n",
      "|   Iguatemi Campinas|             8935|\n",
      "|  Shopping SP Market|             8927|\n",
      "| Bourbon Shopping SP|             8863|\n",
      "|      Rio Mar Recife|             8863|\n",
      "|   Ribeirão Shopping|             8825|\n",
      "|Novo Shopping Rib...|             8751|\n",
      "|Shopping União de...|             8730|\n",
      "| Shopping Ibirapuera|             8723|\n",
      "|   Shopping Eldorado|             8719|\n",
      "|   Salvador Shopping|             8698|\n",
      "|Shopping Center I...|             8675|\n",
      "|      Shopping Barra|             8638|\n",
      "|Shopping Iguatemi...|             8629|\n",
      "|Center Shopping U...|             8627|\n",
      "|Passei das Águas ...|             8618|\n",
      "+--------------------+-----------------+\n",
      "only showing top 20 rows\n",
      "\n"
     ]
    }
   ],
   "source": [
    "# GroupBy e Sum para somar valor de produtos vendidos por cada loja\n",
    "\n",
    "df_produtos_vendidos = df_ranking[\"ID Loja\",\"Quantidade\"].groupby(\"ID Loja\").sum()\\\n",
    ".withColumnRenamed(\"sum(Quantidade)\", \"Produtos Vendidos\")\n",
    "\n",
    "# Ordenando da loja que mais vendeu para a que menos vendeu\n",
    "\n",
    "df_produtos_vendidos = df_produtos_vendidos.sort(\"Produtos Vendidos\",ascending=False)\n",
    "df_produtos_vendidos.show()"
   ]
  },
  {
   "cell_type": "code",
   "execution_count": 42,
   "id": "277e5cba-0f30-4334-9c5a-4e6c574b937b",
   "metadata": {
    "tags": []
   },
   "outputs": [
    {
     "name": "stdout",
     "output_type": "stream",
     "text": [
      "+--------------------+--------------------+\n",
      "|             ID Loja|              Ticket|\n",
      "+--------------------+--------------------+\n",
      "|    Shopping Morumbi|750.0000000000000...|\n",
      "|Shopping União de...|750.0000000000000...|\n",
      "|  Shopping SP Market|750.0000000000000...|\n",
      "|   Ribeirão Shopping|750.0000000000000...|\n",
      "|      Shopping Barra|750.0000000000000...|\n",
      "|   Shopping Eldorado|750.0000000000000...|\n",
      "|Passei das Águas ...|750.0000000000000...|\n",
      "|Center Shopping U...|750.0000000000000...|\n",
      "|   Iguatemi Campinas|750.0000000000000...|\n",
      "|      Norte Shopping|750.0000000000000...|\n",
      "|Shopping Midway Mall|750.0000000000000...|\n",
      "|Center Shopping U...|750.0000000000000...|\n",
      "|   Iguatemi Campinas|750.0000000000000...|\n",
      "|Shopping Midway Mall|750.0000000000000...|\n",
      "|Center Shopping U...|750.0000000000000...|\n",
      "|Palladium Shoppin...|750.0000000000000...|\n",
      "|      Shopping Barra|750.0000000000000...|\n",
      "|Rio Mar Shopping ...|750.0000000000000...|\n",
      "|Parque Dom Pedro ...|750.0000000000000...|\n",
      "|Shopping Iguatemi...|750.0000000000000...|\n",
      "+--------------------+--------------------+\n",
      "only showing top 20 rows\n",
      "\n"
     ]
    }
   ],
   "source": [
    "\n",
    "# Criando tabela temporária para realizar Select com SQL\n",
    "\n",
    "df_ranking.createOrReplaceTempView('df_table')\n",
    "\n",
    "# Ticket = Valor Final / Quantidade de produtos vendidos\n",
    "\n",
    "df_ticket = spark.sql(\n",
    "    \n",
    "    'select `ID Loja`, `Valor Final` / Quantidade as Ticket from df_table'\n",
    "    \n",
    "\n",
    ")\n",
    "\n",
    "df_ticket = df_ticket.sort(\"Ticket\",ascending=False)\n",
    "\n",
    "df_ticket.show()"
   ]
  },
  {
   "cell_type": "code",
   "execution_count": null,
   "id": "3fa8930d-f02c-4bc3-8c9d-399bd05301d1",
   "metadata": {},
   "outputs": [],
   "source": []
  },
  {
   "cell_type": "code",
   "execution_count": null,
   "id": "590b272d-c12b-45f5-a606-8bd6cea7d725",
   "metadata": {},
   "outputs": [],
   "source": []
  },
  {
   "cell_type": "code",
   "execution_count": null,
   "id": "cf58b201-5571-4a0a-9ddd-d63676b33e91",
   "metadata": {},
   "outputs": [],
   "source": []
  },
  {
   "cell_type": "code",
   "execution_count": null,
   "id": "9c11fc2f-2624-4710-b14d-b9d36117ecb1",
   "metadata": {},
   "outputs": [],
   "source": []
  }
 ],
 "metadata": {
  "kernelspec": {
   "display_name": "Python 3 (ipykernel)",
   "language": "python",
   "name": "python3"
  },
  "language_info": {
   "codemirror_mode": {
    "name": "ipython",
    "version": 3
   },
   "file_extension": ".py",
   "mimetype": "text/x-python",
   "name": "python",
   "nbconvert_exporter": "python",
   "pygments_lexer": "ipython3",
   "version": "3.11.7"
  }
 },
 "nbformat": 4,
 "nbformat_minor": 5
}
